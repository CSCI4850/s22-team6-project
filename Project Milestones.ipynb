{
 "cells": [
  {
   "cell_type": "markdown",
   "id": "cd681555",
   "metadata": {},
   "source": [
    "**<center>Team Leabra: Project Milestone (March 15th, 2022)</center>**"
   ]
  },
  {
   "cell_type": "markdown",
   "id": "6cfe7123",
   "metadata": {},
   "source": [
    "| Deliverable | Percent Complete | Estimated Completion Date | Percent Complete By Next Milestone |\n",
    "| :- | :- | :- | :- |\n",
    "| Hardware | 90% | March 14 | 100% |\n",
    "| Code | 0% | April 20 | 25% |\n",
    "| Demo | 0% | April 25 | 5% |\n",
    "| Presentation | 0% | April 28 | 5% |"
   ]
  },
  {
   "cell_type": "markdown",
   "id": "d8fdaac8",
   "metadata": {},
   "source": [
    "**1. What deliverables goals established in the last milestone report were accomplished to the anticipated percentage?**\n",
    "\n",
    "This is the first milestone in the project. Our main deliverable goal as a team was to get the hardware for the R/C car setup so that we would be able to determine if that was a viable option or if we had to go with a software based model (simulation).\n",
    "We set up the car using a pre-built plastic frame to which four independent motors were attached. The motors were connected to an Arduino Uno for motor control and then powered by four AA batteries. We also added a Raspberry PI for to control the entire system. A camera module was attached to the Raspberry PI 4 for image detection. We are now done with the hardware phase of the vehicle and will tackle the software setup in the next phase.\n",
    "\n",
    "The only hardware involved part that is left to create is the track that the car will run and train on. We are planning to use white paper with colored tape on the edges."
   ]
  },
  {
   "cell_type": "markdown",
   "id": "82711849",
   "metadata": {},
   "source": [
    "**2. What deliverables goals established in the last milestone report were not accomplished to the anticipated percentage?**\n",
    "\n",
    "We had initially anticipated to get the software set up on the R/C car but we were not able to fully accomplish this. One problem we faced was lack of equipment to solder wires on to the Arduino. This pushed back the timeline for setting up the hardware on the vehicle which was essential for us to move on to the software set up."
   ]
  },
  {
   "cell_type": "markdown",
   "id": "31b44857",
   "metadata": {},
   "source": [
    "**3. What are the main deliverable goals to meet before the next milestone report, and who is working on them?**\n",
    "\n",
    "The main deliverable goals to be met for the next milestone are:\n",
    "\n",
    "Software Setup on R/C car and lane/track creation -> Kwabena Fosuhene & Patrick Burnett. <br>\n",
    "OpenCV code for image detection and finding additional data sets for sign recogniton -> Stijn Slump & James Coyle. <br>\n",
    "Initial code to control vehicle motors -> Le'Shawn Sears <br>\n",
    "Neural Network planning and setup -> Entire Team\n",
    "\n",
    "This is what we are planning so far; group member duties may change depending on individual capabilites"
   ]
  },
  {
   "cell_type": "markdown",
   "id": "62aa542e",
   "metadata": {},
   "source": [
    "<center>_______________________________________________________________________________________________</center>"
   ]
  },
  {
   "cell_type": "markdown",
   "id": "ec31ff06",
   "metadata": {},
   "source": [
    "**<center>Team Leabra: Project Milestone (March 21th, 2022)</center>**"
   ]
  },
  {
   "cell_type": "markdown",
   "id": "13a0b205",
   "metadata": {},
   "source": [
    "| Deliverable | Percent Complete | Estimated Completion Date | Percent Complete By Next Milestone |\n",
    "| :- | :- | :- | :- |\n",
    "| Hardware | 100% | March 21 | 100% |\n",
    "| Code | 5% | April 20 | 25% |\n",
    "| Demo | 0% | April 25 | 0% |\n",
    "| Presentation | 0% | April 28 | 0% |"
   ]
  },
  {
   "cell_type": "markdown",
   "id": "2d676e31",
   "metadata": {},
   "source": [
    "**1. What deliverables goals established in the last milestone report were accomplished to the anticipated percentage?**\n",
    "\n",
    "Now that the hardware setup of the car is complete and the arduino issues are resolved we have shifted our focus to installing the necessary software on the car. A operating system is currently installed and the necessary libraries will be installed soon.\n"
   ]
  },
  {
   "cell_type": "markdown",
   "id": "f6951b29",
   "metadata": {},
   "source": [
    "**2. What deliverables goals established in the last milestone report were not accomplished to the anticipated percentage?**\n",
    "\n",
    "\n",
    "The code part of the project has stagnated a bit as the OS of the Raspberry Pi has only just been installed. However, we have collected some quality datasets. From these datasets we are currently creating Haarcascades which, when finished, can be used for object detection of traffic signs.\n",
    "\n",
    "also, we have decided the push the demo and presentation aspects of the project forward as we want to prioritize development of the car.\n",
    "\n"
   ]
  },
  {
   "cell_type": "markdown",
   "id": "37211820",
   "metadata": {},
   "source": [
    "**3. What are the main deliverable goals to meet before the next milestone report, and who is working on them?**\n",
    "\n",
    "The next step for the people responsible for the hardware would be to set up a serial connection between the raspberry, the arduino, and the motor controllers. -> Kwabena Fosuhene & Patrick Burnett.\n",
    "\n",
    "For the people that currently do most of the coding, finishing and testing .the haarcascades that are used in object detection would be a good achievement for the next milestone -> Stijn Slump & James Coyle\n",
    "\n",
    "Now that we have an operating system running on the RSP start writing the initial code to control vehicle motors. -> Le'Shawn Sears\n",
    "\n",
    "Neural Network planning and setup -> Entire Team\n"
   ]
  },
  {
   "cell_type": "markdown",
   "id": "cdcd7839",
   "metadata": {},
   "source": [
    "<center>_______________________________________________________________________________________________</center>"
   ]
  }
 ],
 "metadata": {
  "kernelspec": {
   "display_name": "Python 3 (ipykernel)",
   "language": "python",
   "name": "python3"
  },
  "language_info": {
   "codemirror_mode": {
    "name": "ipython",
    "version": 3
   },
   "file_extension": ".py",
   "mimetype": "text/x-python",
   "name": "python",
   "nbconvert_exporter": "python",
   "pygments_lexer": "ipython3",
   "version": "3.9.7"
  }
 },
 "nbformat": 4,
 "nbformat_minor": 5
}
