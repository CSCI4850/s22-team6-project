{
 "cells": [
  {
   "cell_type": "markdown",
   "id": "f66cc547-fa08-4e6f-b441-90fc63802432",
   "metadata": {},
   "source": [
    "**<center>Team Leabra: Project Milestone (March 15th, 2022)</center>**"
   ]
  },
  {
   "cell_type": "markdown",
   "id": "38cd9805-4f4f-432b-bbc3-075bad22cc3d",
   "metadata": {},
   "source": [
    "| Deliverable | Percent Complete | Estimated Completion Date | Percent Complete By Next Milestone |\n",
    "| :- | :- | :- | :- |\n",
    "| Hardware | 90% | March 14 | 100% |\n",
    "| Code | 0% | April 20 | 25% |\n",
    "| Demo | 0% | April 25 | 5% |\n",
    "| Presentation | 0% | April 28 | 5% |"
   ]
  },
  {
   "cell_type": "markdown",
   "id": "da894c27-2f28-4022-a1a4-966d48950c54",
   "metadata": {},
   "source": [
    "**1. What deliverables goals established in the last milestone report were accomplished to the anticipated percentage?**\n",
    "\n",
    "This is the first milestone in the project. Our main deliverable goal as a team was to get the hardware for the R/C car setup so that we would be able to determine if that was a viable option or if we had to go with a software based model (simulation).\n",
    "We set up the car using a pre-built plastic frame to which four independent motors were attached. The motors were connected to an Arduino Uno for motor control and then powered by four AA batteries. We also added a Raspberry PI for to control the entire system. A camera module was attached to the Raspberry PI 4 for image detection. We are now done with the hardware phase of the vehicle and will tackle the software setup in the next phase.\n",
    "\n",
    "The only hardware involved part that is left to create is the track that the car will run and train on. We are planning to use white paper with colored tape on the edges."
   ]
  },
  {
   "cell_type": "markdown",
   "id": "613faa28-9c72-4ccc-b18e-2c3f04c2e3d1",
   "metadata": {},
   "source": [
    "**2. What deliverables goals established in the last milestone report were not accomplished to the anticipated percentage?**\n",
    "\n",
    "We had initially anticipated to get the software set up on the R/C car but we were not able to fully accomplish this. One problem we faced was lack of equipment to solder wires on to the Arduino. This pushed back the timeline for setting up the hardware on the vehicle which was essential for us to move on to the software set up."
   ]
  },
  {
   "cell_type": "markdown",
   "id": "4fcf4b91-368e-4d61-aca8-a25522e09978",
   "metadata": {},
   "source": [
    "**3. What are the main deliverable goals to meet before the next milestone report, and who is working on them?**\n",
    "\n",
    "The main deliverable goals to be met for the next milestone are:\n",
    "\n",
    "Software Setup on R/C car and lane/track creation -> Kwabena Fosuhene & Patrick Burnett. <br>\n",
    "OpenCV code for image detection and finding additional data sets for sign recogniton -> Stijn Slump & James Coyle. <br>\n",
    "Initial code to control vehicle motors -> Le'Shawn Sears <br>\n",
    "Neural Network planning and setup -> Entire Team\n",
    "\n",
    "This is what we are planning so far; group member duties may change depending on individual capabilites"
   ]
  }
 ],
 "metadata": {
  "kernelspec": {
   "display_name": "Python 3 (ipykernel)",
   "language": "python",
   "name": "python3"
  },
  "language_info": {
   "codemirror_mode": {
    "name": "ipython",
    "version": 3
   },
   "file_extension": ".py",
   "mimetype": "text/x-python",
   "name": "python",
   "nbconvert_exporter": "python",
   "pygments_lexer": "ipython3",
   "version": "3.9.7"
  }
 },
 "nbformat": 4,
 "nbformat_minor": 5
}
