{
 "cells": [
  {
   "cell_type": "code",
   "execution_count": 22,
   "id": "6ae10423",
   "metadata": {},
   "outputs": [],
   "source": [
    "import pandas as pd\n",
    "import matplotlib.pyplot as plt"
   ]
  },
  {
   "cell_type": "code",
   "execution_count": 23,
   "id": "4a0b5355",
   "metadata": {},
   "outputs": [
    {
     "data": {
      "text/plain": [
       "(3940, 7)"
      ]
     },
     "execution_count": 23,
     "metadata": {},
     "output_type": "execute_result"
    }
   ],
   "source": [
    "df = pd.read_csv (\"driving_log.csv\")\n",
    "df.shape"
   ]
  },
  {
   "cell_type": "code",
   "execution_count": 24,
   "id": "97a1f5bc",
   "metadata": {},
   "outputs": [
    {
     "data": {
      "text/html": [
       "<div>\n",
       "<style scoped>\n",
       "    .dataframe tbody tr th:only-of-type {\n",
       "        vertical-align: middle;\n",
       "    }\n",
       "\n",
       "    .dataframe tbody tr th {\n",
       "        vertical-align: top;\n",
       "    }\n",
       "\n",
       "    .dataframe thead th {\n",
       "        text-align: right;\n",
       "    }\n",
       "</style>\n",
       "<table border=\"1\" class=\"dataframe\">\n",
       "  <thead>\n",
       "    <tr style=\"text-align: right;\">\n",
       "      <th></th>\n",
       "      <th>C:\\Users\\stijn\\Documents\\GitHub\\s22-team6-project\\Data\\Car_Data\\IMG\\center_2022_04_02_16_47_32_656.jpg</th>\n",
       "      <th>C:\\Users\\stijn\\Documents\\GitHub\\s22-team6-project\\Data\\Car_Data\\IMG\\left_2022_04_02_16_47_32_656.jpg</th>\n",
       "      <th>C:\\Users\\stijn\\Documents\\GitHub\\s22-team6-project\\Data\\Car_Data\\IMG\\right_2022_04_02_16_47_32_656.jpg</th>\n",
       "      <th>0</th>\n",
       "      <th>0.1</th>\n",
       "      <th>0.2</th>\n",
       "      <th>11.46711</th>\n",
       "    </tr>\n",
       "  </thead>\n",
       "  <tbody>\n",
       "    <tr>\n",
       "      <th>0</th>\n",
       "      <td>C:\\Users\\stijn\\Documents\\GitHub\\s22-team6-proj...</td>\n",
       "      <td>C:\\Users\\stijn\\Documents\\GitHub\\s22-team6-proj...</td>\n",
       "      <td>C:\\Users\\stijn\\Documents\\GitHub\\s22-team6-proj...</td>\n",
       "      <td>0.0</td>\n",
       "      <td>0.0</td>\n",
       "      <td>0</td>\n",
       "      <td>11.47556</td>\n",
       "    </tr>\n",
       "    <tr>\n",
       "      <th>1</th>\n",
       "      <td>C:\\Users\\stijn\\Documents\\GitHub\\s22-team6-proj...</td>\n",
       "      <td>C:\\Users\\stijn\\Documents\\GitHub\\s22-team6-proj...</td>\n",
       "      <td>C:\\Users\\stijn\\Documents\\GitHub\\s22-team6-proj...</td>\n",
       "      <td>0.0</td>\n",
       "      <td>0.0</td>\n",
       "      <td>0</td>\n",
       "      <td>11.32982</td>\n",
       "    </tr>\n",
       "    <tr>\n",
       "      <th>2</th>\n",
       "      <td>C:\\Users\\stijn\\Documents\\GitHub\\s22-team6-proj...</td>\n",
       "      <td>C:\\Users\\stijn\\Documents\\GitHub\\s22-team6-proj...</td>\n",
       "      <td>C:\\Users\\stijn\\Documents\\GitHub\\s22-team6-proj...</td>\n",
       "      <td>0.0</td>\n",
       "      <td>0.0</td>\n",
       "      <td>0</td>\n",
       "      <td>11.23149</td>\n",
       "    </tr>\n",
       "    <tr>\n",
       "      <th>3</th>\n",
       "      <td>C:\\Users\\stijn\\Documents\\GitHub\\s22-team6-proj...</td>\n",
       "      <td>C:\\Users\\stijn\\Documents\\GitHub\\s22-team6-proj...</td>\n",
       "      <td>C:\\Users\\stijn\\Documents\\GitHub\\s22-team6-proj...</td>\n",
       "      <td>0.0</td>\n",
       "      <td>0.0</td>\n",
       "      <td>0</td>\n",
       "      <td>11.25368</td>\n",
       "    </tr>\n",
       "    <tr>\n",
       "      <th>4</th>\n",
       "      <td>C:\\Users\\stijn\\Documents\\GitHub\\s22-team6-proj...</td>\n",
       "      <td>C:\\Users\\stijn\\Documents\\GitHub\\s22-team6-proj...</td>\n",
       "      <td>C:\\Users\\stijn\\Documents\\GitHub\\s22-team6-proj...</td>\n",
       "      <td>0.0</td>\n",
       "      <td>0.0</td>\n",
       "      <td>0</td>\n",
       "      <td>11.12320</td>\n",
       "    </tr>\n",
       "  </tbody>\n",
       "</table>\n",
       "</div>"
      ],
      "text/plain": [
       "  C:\\Users\\stijn\\Documents\\GitHub\\s22-team6-project\\Data\\Car_Data\\IMG\\center_2022_04_02_16_47_32_656.jpg  \\\n",
       "0  C:\\Users\\stijn\\Documents\\GitHub\\s22-team6-proj...                                                       \n",
       "1  C:\\Users\\stijn\\Documents\\GitHub\\s22-team6-proj...                                                       \n",
       "2  C:\\Users\\stijn\\Documents\\GitHub\\s22-team6-proj...                                                       \n",
       "3  C:\\Users\\stijn\\Documents\\GitHub\\s22-team6-proj...                                                       \n",
       "4  C:\\Users\\stijn\\Documents\\GitHub\\s22-team6-proj...                                                       \n",
       "\n",
       "  C:\\Users\\stijn\\Documents\\GitHub\\s22-team6-project\\Data\\Car_Data\\IMG\\left_2022_04_02_16_47_32_656.jpg  \\\n",
       "0  C:\\Users\\stijn\\Documents\\GitHub\\s22-team6-proj...                                                     \n",
       "1  C:\\Users\\stijn\\Documents\\GitHub\\s22-team6-proj...                                                     \n",
       "2  C:\\Users\\stijn\\Documents\\GitHub\\s22-team6-proj...                                                     \n",
       "3  C:\\Users\\stijn\\Documents\\GitHub\\s22-team6-proj...                                                     \n",
       "4  C:\\Users\\stijn\\Documents\\GitHub\\s22-team6-proj...                                                     \n",
       "\n",
       "  C:\\Users\\stijn\\Documents\\GitHub\\s22-team6-project\\Data\\Car_Data\\IMG\\right_2022_04_02_16_47_32_656.jpg  \\\n",
       "0  C:\\Users\\stijn\\Documents\\GitHub\\s22-team6-proj...                                                      \n",
       "1  C:\\Users\\stijn\\Documents\\GitHub\\s22-team6-proj...                                                      \n",
       "2  C:\\Users\\stijn\\Documents\\GitHub\\s22-team6-proj...                                                      \n",
       "3  C:\\Users\\stijn\\Documents\\GitHub\\s22-team6-proj...                                                      \n",
       "4  C:\\Users\\stijn\\Documents\\GitHub\\s22-team6-proj...                                                      \n",
       "\n",
       "     0  0.1  0.2  11.46711  \n",
       "0  0.0  0.0    0  11.47556  \n",
       "1  0.0  0.0    0  11.32982  \n",
       "2  0.0  0.0    0  11.23149  \n",
       "3  0.0  0.0    0  11.25368  \n",
       "4  0.0  0.0    0  11.12320  "
      ]
     },
     "execution_count": 24,
     "metadata": {},
     "output_type": "execute_result"
    }
   ],
   "source": [
    "df.head()"
   ]
  },
  {
   "cell_type": "markdown",
   "id": "f31a396b",
   "metadata": {},
   "source": [
    "Format of excel file is:\n",
    "\n",
    "| Location Left Cam | Location Middle Cam | Location Right Cam | Steering Input | Throttle Input | Brake Input | Speed |\n",
    "\n",
    "For our project we will only use the middle camera of the car and the steering input\n"
   ]
  },
  {
   "cell_type": "code",
   "execution_count": 25,
   "id": "875b21cf",
   "metadata": {},
   "outputs": [],
   "source": [
    "#### getting steering inputs"
   ]
  },
  {
   "cell_type": "code",
   "execution_count": 26,
   "id": "e27d3fb8",
   "metadata": {},
   "outputs": [
    {
     "data": {
      "text/plain": [
       "0    0.0\n",
       "1    0.0\n",
       "2    0.0\n",
       "3    0.0\n",
       "4    0.0\n",
       "Name: 0, dtype: float64"
      ]
     },
     "execution_count": 26,
     "metadata": {},
     "output_type": "execute_result"
    }
   ],
   "source": [
    "steeringInput = df.iloc[:,3]\n",
    "steeringInput.head()"
   ]
  },
  {
   "cell_type": "code",
   "execution_count": 27,
   "id": "8334eb00",
   "metadata": {},
   "outputs": [],
   "source": [
    "#### plotting steering input"
   ]
  },
  {
   "cell_type": "code",
   "execution_count": 36,
   "id": "efb95146",
   "metadata": {},
   "outputs": [],
   "source": [
    "columns = [\"left_cam\",\"middle_cam\",\"right_cam\",\"steering\",\"throttle\",\"brake\",\"speed\"]"
   ]
  },
  {
   "cell_type": "code",
   "execution_count": 45,
   "id": "d358987a",
   "metadata": {},
   "outputs": [
    {
     "data": {
      "image/png": "[encoded data removed]",
      "text/plain": [
       "<Figure size 432x288 with 1 Axes>"
      ]
     },
     "metadata": {
      "needs_background": "light"
     },
     "output_type": "display_data"
    }
   ],
   "source": [
    "plt.hist(steeringInput, bins=41)\n",
    "plt.show()"
   ]
  },
  {
   "cell_type": "code",
   "execution_count": null,
   "id": "5cc25b41",
   "metadata": {},
   "outputs": [],
   "source": []
  }
 ],
 "metadata": {
  "kernelspec": {
   "display_name": "cpu",
   "language": "python",
   "name": "myenv"
  },
  "language_info": {
   "codemirror_mode": {
    "name": "ipython",
    "version": 3
   },
   "file_extension": ".py",
   "mimetype": "text/x-python",
   "name": "python",
   "nbconvert_exporter": "python",
   "pygments_lexer": "ipython3",
   "version": "3.9.11"
  }
 },
 "nbformat": 4,
 "nbformat_minor": 5
}
