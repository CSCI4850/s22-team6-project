{
 "cells": [
  {
   "cell_type": "code",
   "execution_count": 46,
   "id": "87747b9c",
   "metadata": {},
   "outputs": [],
   "source": [
    "import pandas as pd\n",
    "import matplotlib.pyplot as plt"
   ]
  },
  {
   "cell_type": "code",
   "execution_count": 47,
   "id": "d3ed7997",
   "metadata": {},
   "outputs": [
    {
     "data": {
      "text/plain": [
       "(2980, 7)"
      ]
     },
     "execution_count": 47,
     "metadata": {},
     "output_type": "execute_result"
    }
   ],
   "source": [
    "df = pd.read_csv (\"driving_log.csv\")\n",
    "df.shape"
   ]
  },
  {
   "cell_type": "code",
   "execution_count": 48,
   "id": "23064ab6",
   "metadata": {},
   "outputs": [
    {
     "data": {
      "text/html": [
       "<div>\n",
       "<style scoped>\n",
       "    .dataframe tbody tr th:only-of-type {\n",
       "        vertical-align: middle;\n",
       "    }\n",
       "\n",
       "    .dataframe tbody tr th {\n",
       "        vertical-align: top;\n",
       "    }\n",
       "\n",
       "    .dataframe thead th {\n",
       "        text-align: right;\n",
       "    }\n",
       "</style>\n",
       "<table border=\"1\" class=\"dataframe\">\n",
       "  <thead>\n",
       "    <tr style=\"text-align: right;\">\n",
       "      <th></th>\n",
       "      <th>C:\\Users\\stijn\\Documents\\GitHub\\s22-team6-project\\Data\\Car_Data\\IMG\\center_2022_04_02_17_24_00_423.jpg</th>\n",
       "      <th>C:\\Users\\stijn\\Documents\\GitHub\\s22-team6-project\\Data\\Car_Data\\IMG\\left_2022_04_02_17_24_00_423.jpg</th>\n",
       "      <th>C:\\Users\\stijn\\Documents\\GitHub\\s22-team6-project\\Data\\Car_Data\\IMG\\right_2022_04_02_17_24_00_423.jpg</th>\n",
       "      <th>0</th>\n",
       "      <th>0.0436143</th>\n",
       "      <th>0.1</th>\n",
       "      <th>0.01137654</th>\n",
       "    </tr>\n",
       "  </thead>\n",
       "  <tbody>\n",
       "    <tr>\n",
       "      <th>0</th>\n",
       "      <td>C:\\Users\\stijn\\Documents\\GitHub\\s22-team6-proj...</td>\n",
       "      <td>C:\\Users\\stijn\\Documents\\GitHub\\s22-team6-proj...</td>\n",
       "      <td>C:\\Users\\stijn\\Documents\\GitHub\\s22-team6-proj...</td>\n",
       "      <td>0.0</td>\n",
       "      <td>0.213285</td>\n",
       "      <td>0</td>\n",
       "      <td>0.112596</td>\n",
       "    </tr>\n",
       "    <tr>\n",
       "      <th>1</th>\n",
       "      <td>C:\\Users\\stijn\\Documents\\GitHub\\s22-team6-proj...</td>\n",
       "      <td>C:\\Users\\stijn\\Documents\\GitHub\\s22-team6-proj...</td>\n",
       "      <td>C:\\Users\\stijn\\Documents\\GitHub\\s22-team6-proj...</td>\n",
       "      <td>0.0</td>\n",
       "      <td>0.468213</td>\n",
       "      <td>0</td>\n",
       "      <td>0.453572</td>\n",
       "    </tr>\n",
       "    <tr>\n",
       "      <th>2</th>\n",
       "      <td>C:\\Users\\stijn\\Documents\\GitHub\\s22-team6-proj...</td>\n",
       "      <td>C:\\Users\\stijn\\Documents\\GitHub\\s22-team6-proj...</td>\n",
       "      <td>C:\\Users\\stijn\\Documents\\GitHub\\s22-team6-proj...</td>\n",
       "      <td>0.0</td>\n",
       "      <td>0.688075</td>\n",
       "      <td>0</td>\n",
       "      <td>0.990028</td>\n",
       "    </tr>\n",
       "    <tr>\n",
       "      <th>3</th>\n",
       "      <td>C:\\Users\\stijn\\Documents\\GitHub\\s22-team6-proj...</td>\n",
       "      <td>C:\\Users\\stijn\\Documents\\GitHub\\s22-team6-proj...</td>\n",
       "      <td>C:\\Users\\stijn\\Documents\\GitHub\\s22-team6-proj...</td>\n",
       "      <td>0.0</td>\n",
       "      <td>0.871441</td>\n",
       "      <td>0</td>\n",
       "      <td>1.595313</td>\n",
       "    </tr>\n",
       "    <tr>\n",
       "      <th>4</th>\n",
       "      <td>C:\\Users\\stijn\\Documents\\GitHub\\s22-team6-proj...</td>\n",
       "      <td>C:\\Users\\stijn\\Documents\\GitHub\\s22-team6-proj...</td>\n",
       "      <td>C:\\Users\\stijn\\Documents\\GitHub\\s22-team6-proj...</td>\n",
       "      <td>0.0</td>\n",
       "      <td>1.000000</td>\n",
       "      <td>0</td>\n",
       "      <td>2.302826</td>\n",
       "    </tr>\n",
       "  </tbody>\n",
       "</table>\n",
       "</div>"
      ],
      "text/plain": [
       "  C:\\Users\\stijn\\Documents\\GitHub\\s22-team6-project\\Data\\Car_Data\\IMG\\center_2022_04_02_17_24_00_423.jpg  \\\n",
       "0  C:\\Users\\stijn\\Documents\\GitHub\\s22-team6-proj...                                                       \n",
       "1  C:\\Users\\stijn\\Documents\\GitHub\\s22-team6-proj...                                                       \n",
       "2  C:\\Users\\stijn\\Documents\\GitHub\\s22-team6-proj...                                                       \n",
       "3  C:\\Users\\stijn\\Documents\\GitHub\\s22-team6-proj...                                                       \n",
       "4  C:\\Users\\stijn\\Documents\\GitHub\\s22-team6-proj...                                                       \n",
       "\n",
       "  C:\\Users\\stijn\\Documents\\GitHub\\s22-team6-project\\Data\\Car_Data\\IMG\\left_2022_04_02_17_24_00_423.jpg  \\\n",
       "0  C:\\Users\\stijn\\Documents\\GitHub\\s22-team6-proj...                                                     \n",
       "1  C:\\Users\\stijn\\Documents\\GitHub\\s22-team6-proj...                                                     \n",
       "2  C:\\Users\\stijn\\Documents\\GitHub\\s22-team6-proj...                                                     \n",
       "3  C:\\Users\\stijn\\Documents\\GitHub\\s22-team6-proj...                                                     \n",
       "4  C:\\Users\\stijn\\Documents\\GitHub\\s22-team6-proj...                                                     \n",
       "\n",
       "  C:\\Users\\stijn\\Documents\\GitHub\\s22-team6-project\\Data\\Car_Data\\IMG\\right_2022_04_02_17_24_00_423.jpg  \\\n",
       "0  C:\\Users\\stijn\\Documents\\GitHub\\s22-team6-proj...                                                      \n",
       "1  C:\\Users\\stijn\\Documents\\GitHub\\s22-team6-proj...                                                      \n",
       "2  C:\\Users\\stijn\\Documents\\GitHub\\s22-team6-proj...                                                      \n",
       "3  C:\\Users\\stijn\\Documents\\GitHub\\s22-team6-proj...                                                      \n",
       "4  C:\\Users\\stijn\\Documents\\GitHub\\s22-team6-proj...                                                      \n",
       "\n",
       "     0  0.0436143  0.1  0.01137654  \n",
       "0  0.0   0.213285    0    0.112596  \n",
       "1  0.0   0.468213    0    0.453572  \n",
       "2  0.0   0.688075    0    0.990028  \n",
       "3  0.0   0.871441    0    1.595313  \n",
       "4  0.0   1.000000    0    2.302826  "
      ]
     },
     "execution_count": 48,
     "metadata": {},
     "output_type": "execute_result"
    }
   ],
   "source": [
    "df.head()"
   ]
  },
  {
   "cell_type": "markdown",
   "id": "ae1c58e0",
   "metadata": {},
   "source": [
    "Format of excel file is:\n",
    "\n",
    "| Location Left Cam | Location Middle Cam | Location Right Cam | Steering Input | Throttle Input | Brake Input | Speed |\n",
    "\n",
    "For our project we will only use the middle camera of the car and the steering input\n"
   ]
  },
  {
   "cell_type": "code",
   "execution_count": 49,
   "id": "d1c905b5",
   "metadata": {},
   "outputs": [],
   "source": [
    "#### getting steering inputs"
   ]
  },
  {
   "cell_type": "code",
   "execution_count": 50,
   "id": "3dad2daf",
   "metadata": {},
   "outputs": [
    {
     "data": {
      "text/plain": [
       "0    0.0\n",
       "1    0.0\n",
       "2    0.0\n",
       "3    0.0\n",
       "4    0.0\n",
       "Name: 0, dtype: float64"
      ]
     },
     "execution_count": 50,
     "metadata": {},
     "output_type": "execute_result"
    }
   ],
   "source": [
    "steeringInput = df.iloc[:,3]\n",
    "steeringInput.head()"
   ]
  },
  {
   "cell_type": "code",
   "execution_count": 51,
   "id": "3849bdc2",
   "metadata": {},
   "outputs": [],
   "source": [
    "#### plotting steering input"
   ]
  },
  {
   "cell_type": "code",
   "execution_count": 52,
   "id": "e998a9ce",
   "metadata": {},
   "outputs": [],
   "source": [
    "columns = [\"left_cam\",\"middle_cam\",\"right_cam\",\"steering\",\"throttle\",\"brake\",\"speed\"]"
   ]
  },
  {
   "cell_type": "code",
   "execution_count": 53,
   "id": "d7835a64",
   "metadata": {},
   "outputs": [
    {
     "data": {
      "image/png": "[encoded data removed]",
      "text/plain": [
       "<Figure size 432x288 with 1 Axes>"
      ]
     },
     "metadata": {
      "needs_background": "light"
     },
     "output_type": "display_data"
    }
   ],
   "source": [
    "plt.hist(steeringInput, bins=41)\n",
    "plt.show()"
   ]
  },
  {
   "cell_type": "code",
   "execution_count": null,
   "id": "3db7b593",
   "metadata": {},
   "outputs": [],
   "source": []
  }
 ],
 "metadata": {
  "kernelspec": {
   "display_name": "cpu",
   "language": "python",
   "name": "myenv"
  },
  "language_info": {
   "codemirror_mode": {
    "name": "ipython",
    "version": 3
   },
   "file_extension": ".py",
   "mimetype": "text/x-python",
   "name": "python",
   "nbconvert_exporter": "python",
   "pygments_lexer": "ipython3",
   "version": "3.9.11"
  }
 },
 "nbformat": 4,
 "nbformat_minor": 5
}
