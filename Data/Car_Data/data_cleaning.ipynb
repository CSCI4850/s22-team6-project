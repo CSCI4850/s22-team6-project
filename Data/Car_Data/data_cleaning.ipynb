{
 "cells": [
  {
   "cell_type": "code",
   "execution_count": 44,
   "metadata": {},
   "outputs": [],
   "source": [
    "import pandas as pd\n",
    "import matplotlib.pyplot as plt\n",
    "import numpy as np"
   ]
  },
  {
   "cell_type": "code",
   "execution_count": 122,
   "metadata": {},
   "outputs": [
    {
     "data": {
      "text/plain": [
       "(7529, 7)"
      ]
     },
     "execution_count": 122,
     "metadata": {},
     "output_type": "execute_result"
    }
   ],
   "source": [
    "df = pd.read_csv (\"driving_log.csv\")\n",
    "df.shape"
   ]
  },
  {
   "cell_type": "code",
   "execution_count": 123,
   "metadata": {},
   "outputs": [
    {
     "data": {
      "text/html": [
       "<div>\n",
       "<style scoped>\n",
       "    .dataframe tbody tr th:only-of-type {\n",
       "        vertical-align: middle;\n",
       "    }\n",
       "\n",
       "    .dataframe tbody tr th {\n",
       "        vertical-align: top;\n",
       "    }\n",
       "\n",
       "    .dataframe thead th {\n",
       "        text-align: right;\n",
       "    }\n",
       "</style>\n",
       "<table border=\"1\" class=\"dataframe\">\n",
       "  <thead>\n",
       "    <tr style=\"text-align: right;\">\n",
       "      <th></th>\n",
       "      <th>C:\\Users\\stijn\\Documents\\GitHub\\s22-team6-project\\Data\\Car_Data\\IMG\\center_2022_04_03_19_06_19_758.jpg</th>\n",
       "      <th>C:\\Users\\stijn\\Documents\\GitHub\\s22-team6-project\\Data\\Car_Data\\IMG\\left_2022_04_03_19_06_19_758.jpg</th>\n",
       "      <th>C:\\Users\\stijn\\Documents\\GitHub\\s22-team6-project\\Data\\Car_Data\\IMG\\right_2022_04_03_19_06_19_758.jpg</th>\n",
       "      <th>0</th>\n",
       "      <th>1</th>\n",
       "      <th>0.1</th>\n",
       "      <th>13.14824</th>\n",
       "    </tr>\n",
       "  </thead>\n",
       "  <tbody>\n",
       "    <tr>\n",
       "      <th>0</th>\n",
       "      <td>C:\\Users\\stijn\\Documents\\GitHub\\s22-team6-proj...</td>\n",
       "      <td>C:\\Users\\stijn\\Documents\\GitHub\\s22-team6-proj...</td>\n",
       "      <td>C:\\Users\\stijn\\Documents\\GitHub\\s22-team6-proj...</td>\n",
       "      <td>-0.20</td>\n",
       "      <td>1.0</td>\n",
       "      <td>0.0</td>\n",
       "      <td>14.20029</td>\n",
       "    </tr>\n",
       "    <tr>\n",
       "      <th>1</th>\n",
       "      <td>C:\\Users\\stijn\\Documents\\GitHub\\s22-team6-proj...</td>\n",
       "      <td>C:\\Users\\stijn\\Documents\\GitHub\\s22-team6-proj...</td>\n",
       "      <td>C:\\Users\\stijn\\Documents\\GitHub\\s22-team6-proj...</td>\n",
       "      <td>-0.35</td>\n",
       "      <td>1.0</td>\n",
       "      <td>0.0</td>\n",
       "      <td>14.71997</td>\n",
       "    </tr>\n",
       "    <tr>\n",
       "      <th>2</th>\n",
       "      <td>C:\\Users\\stijn\\Documents\\GitHub\\s22-team6-proj...</td>\n",
       "      <td>C:\\Users\\stijn\\Documents\\GitHub\\s22-team6-proj...</td>\n",
       "      <td>C:\\Users\\stijn\\Documents\\GitHub\\s22-team6-proj...</td>\n",
       "      <td>0.00</td>\n",
       "      <td>1.0</td>\n",
       "      <td>0.0</td>\n",
       "      <td>15.59210</td>\n",
       "    </tr>\n",
       "    <tr>\n",
       "      <th>3</th>\n",
       "      <td>C:\\Users\\stijn\\Documents\\GitHub\\s22-team6-proj...</td>\n",
       "      <td>C:\\Users\\stijn\\Documents\\GitHub\\s22-team6-proj...</td>\n",
       "      <td>C:\\Users\\stijn\\Documents\\GitHub\\s22-team6-proj...</td>\n",
       "      <td>0.00</td>\n",
       "      <td>1.0</td>\n",
       "      <td>0.0</td>\n",
       "      <td>16.11552</td>\n",
       "    </tr>\n",
       "    <tr>\n",
       "      <th>4</th>\n",
       "      <td>C:\\Users\\stijn\\Documents\\GitHub\\s22-team6-proj...</td>\n",
       "      <td>C:\\Users\\stijn\\Documents\\GitHub\\s22-team6-proj...</td>\n",
       "      <td>C:\\Users\\stijn\\Documents\\GitHub\\s22-team6-proj...</td>\n",
       "      <td>0.00</td>\n",
       "      <td>1.0</td>\n",
       "      <td>0.0</td>\n",
       "      <td>16.94485</td>\n",
       "    </tr>\n",
       "  </tbody>\n",
       "</table>\n",
       "</div>"
      ],
      "text/plain": [
       "  C:\\Users\\stijn\\Documents\\GitHub\\s22-team6-project\\Data\\Car_Data\\IMG\\center_2022_04_03_19_06_19_758.jpg  \\\n",
       "0  C:\\Users\\stijn\\Documents\\GitHub\\s22-team6-proj...                                                       \n",
       "1  C:\\Users\\stijn\\Documents\\GitHub\\s22-team6-proj...                                                       \n",
       "2  C:\\Users\\stijn\\Documents\\GitHub\\s22-team6-proj...                                                       \n",
       "3  C:\\Users\\stijn\\Documents\\GitHub\\s22-team6-proj...                                                       \n",
       "4  C:\\Users\\stijn\\Documents\\GitHub\\s22-team6-proj...                                                       \n",
       "\n",
       "  C:\\Users\\stijn\\Documents\\GitHub\\s22-team6-project\\Data\\Car_Data\\IMG\\left_2022_04_03_19_06_19_758.jpg  \\\n",
       "0  C:\\Users\\stijn\\Documents\\GitHub\\s22-team6-proj...                                                     \n",
       "1  C:\\Users\\stijn\\Documents\\GitHub\\s22-team6-proj...                                                     \n",
       "2  C:\\Users\\stijn\\Documents\\GitHub\\s22-team6-proj...                                                     \n",
       "3  C:\\Users\\stijn\\Documents\\GitHub\\s22-team6-proj...                                                     \n",
       "4  C:\\Users\\stijn\\Documents\\GitHub\\s22-team6-proj...                                                     \n",
       "\n",
       "  C:\\Users\\stijn\\Documents\\GitHub\\s22-team6-project\\Data\\Car_Data\\IMG\\right_2022_04_03_19_06_19_758.jpg  \\\n",
       "0  C:\\Users\\stijn\\Documents\\GitHub\\s22-team6-proj...                                                      \n",
       "1  C:\\Users\\stijn\\Documents\\GitHub\\s22-team6-proj...                                                      \n",
       "2  C:\\Users\\stijn\\Documents\\GitHub\\s22-team6-proj...                                                      \n",
       "3  C:\\Users\\stijn\\Documents\\GitHub\\s22-team6-proj...                                                      \n",
       "4  C:\\Users\\stijn\\Documents\\GitHub\\s22-team6-proj...                                                      \n",
       "\n",
       "      0    1  0.1  13.14824  \n",
       "0 -0.20  1.0  0.0  14.20029  \n",
       "1 -0.35  1.0  0.0  14.71997  \n",
       "2  0.00  1.0  0.0  15.59210  \n",
       "3  0.00  1.0  0.0  16.11552  \n",
       "4  0.00  1.0  0.0  16.94485  "
      ]
     },
     "execution_count": 123,
     "metadata": {},
     "output_type": "execute_result"
    }
   ],
   "source": [
    "df.head()"
   ]
  },
  {
   "cell_type": "markdown",
   "metadata": {},
   "source": [
    "Format of excel file is:\n",
    "\n",
    "| Location Left Cam | Location Middle Cam | Location Right Cam | Steering Input | Throttle Input | Brake Input | Speed |\n",
    "\n",
    "For our project we will only use the middle camera of the car and the steering input\n"
   ]
  },
  {
   "cell_type": "code",
   "execution_count": 124,
   "metadata": {},
   "outputs": [],
   "source": [
    "df.columns = [\"left_cam\",\"middle_cam\",\"right_cam\",\"steering\",\"throttle\",\"brake\",\"speed\"]"
   ]
  },
  {
   "cell_type": "code",
   "execution_count": 125,
   "metadata": {},
   "outputs": [
    {
     "name": "stdout",
     "output_type": "stream",
     "text": [
      "<class 'pandas.core.frame.DataFrame'>\n",
      "RangeIndex: 7529 entries, 0 to 7528\n",
      "Data columns (total 7 columns):\n",
      " #   Column      Non-Null Count  Dtype  \n",
      "---  ------      --------------  -----  \n",
      " 0   left_cam    7529 non-null   object \n",
      " 1   middle_cam  7529 non-null   object \n",
      " 2   right_cam   7529 non-null   object \n",
      " 3   steering    7529 non-null   float64\n",
      " 4   throttle    7529 non-null   float64\n",
      " 5   brake       7529 non-null   float64\n",
      " 6   speed       7529 non-null   float64\n",
      "dtypes: float64(4), object(3)\n",
      "memory usage: 411.9+ KB\n"
     ]
    }
   ],
   "source": [
    "# Fields that are available in the dataframe and their missing values and data type\n",
    "df.info()"
   ]
  },
  {
   "cell_type": "code",
   "execution_count": 126,
   "metadata": {
    "scrolled": true
   },
   "outputs": [],
   "source": [
    "#extract middle camera and steering input\n",
    "extracted = df[[\"middle_cam\",\"steering\"]]"
   ]
  },
  {
   "cell_type": "code",
   "execution_count": 131,
   "metadata": {},
   "outputs": [
    {
     "data": {
      "image/png": "[encoded data removed]",
      "text/plain": [
       "<Figure size 432x288 with 1 Axes>"
      ]
     },
     "metadata": {
      "needs_background": "light"
     },
     "output_type": "display_data"
    }
   ],
   "source": [
    "plt.hist(extracted[\"steering\"], bins=51)\n",
    "plt.show()"
   ]
  },
  {
   "cell_type": "code",
   "execution_count": 147,
   "metadata": {},
   "outputs": [
    {
     "name": "stdout",
     "output_type": "stream",
     "text": [
      "84\n"
     ]
    }
   ],
   "source": [
    "#count extreme input to see if we these are going to play a role in training\n",
    "#we want to check this because during collecting data we turned to car around and had to go off track while doing so\n",
    "counter = 0\n",
    "for row in extracted[\"steering\"]:\n",
    "    if row >= 0.7 or row <= -0.7:\n",
    "        counter = counter + 1\n",
    "print(counter)"
   ]
  },
  {
   "cell_type": "code",
   "execution_count": 182,
   "metadata": {},
   "outputs": [
    {
     "name": "stderr",
     "output_type": "stream",
     "text": [
      "C:\\Users\\Hallo\\anaconda3\\lib\\site-packages\\pandas\\core\\frame.py:3990: SettingWithCopyWarning: \n",
      "A value is trying to be set on a copy of a slice from a DataFrame\n",
      "\n",
      "See the caveats in the documentation: https://pandas.pydata.org/pandas-docs/stable/user_guide/indexing.html#returning-a-view-versus-a-copy\n",
      "  return super().drop(\n"
     ]
    }
   ],
   "source": [
    "#remove right side\n",
    "extracted.drop(extracted.index[extracted['steering'] >= 0.6], inplace=True)"
   ]
  },
  {
   "cell_type": "code",
   "execution_count": 186,
   "metadata": {},
   "outputs": [],
   "source": [
    "#remove left side\n",
    "extracted.drop(extracted.index[extracted['steering'] <= -0.6], inplace=True)"
   ]
  },
  {
   "cell_type": "code",
   "execution_count": 189,
   "metadata": {},
   "outputs": [
    {
     "name": "stdout",
     "output_type": "stream",
     "text": [
      "<class 'pandas.core.frame.DataFrame'>\n",
      "Int64Index: 7433 entries, 0 to 7528\n",
      "Data columns (total 2 columns):\n",
      " #   Column      Non-Null Count  Dtype  \n",
      "---  ------      --------------  -----  \n",
      " 0   middle_cam  7433 non-null   object \n",
      " 1   steering    7433 non-null   float64\n",
      "dtypes: float64(1), object(1)\n",
      "memory usage: 174.2+ KB\n"
     ]
    }
   ],
   "source": [
    "#check data for new df\n",
    "extracted.info()"
   ]
  },
  {
   "cell_type": "code",
   "execution_count": 191,
   "metadata": {},
   "outputs": [
    {
     "data": {
      "image/png": "[encoded data removed]",
      "text/plain": [
       "<Figure size 432x288 with 1 Axes>"
      ]
     },
     "metadata": {
      "needs_background": "light"
     },
     "output_type": "display_data"
    }
   ],
   "source": [
    "plt.hist(extracted[\"steering\"], bins=51)\n",
    "plt.show()"
   ]
  },
  {
   "cell_type": "code",
   "execution_count": 194,
   "metadata": {},
   "outputs": [],
   "source": [
    "#extract the csv file\n",
    "extracted.to_csv(\"middle_camera_and_steering.csv\")"
   ]
  },
  {
   "cell_type": "code",
   "execution_count": null,
   "metadata": {},
   "outputs": [],
   "source": []
  }
 ],
 "metadata": {
  "kernelspec": {
   "display_name": "Python 3",
   "language": "python",
   "name": "python3"
  },
  "language_info": {
   "codemirror_mode": {
    "name": "ipython",
    "version": 3
   },
   "file_extension": ".py",
   "mimetype": "text/x-python",
   "name": "python",
   "nbconvert_exporter": "python",
   "pygments_lexer": "ipython3",
   "version": "3.8.3"
  }
 },
 "nbformat": 4,
 "nbformat_minor": 5
}
