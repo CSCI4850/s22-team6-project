{
 "cells": [
  {
   "cell_type": "code",
   "execution_count": 22,
   "id": "117c8b28",
   "metadata": {},
   "outputs": [],
   "source": [
    "import pandas as pd\n",
    "import matplotlib.pyplot as plt"
   ]
  },
  {
   "cell_type": "code",
   "execution_count": 23,
   "id": "f0f1665c",
   "metadata": {},
   "outputs": [
    {
     "data": {
      "text/plain": [
       "(3940, 7)"
      ]
     },
     "execution_count": 23,
     "metadata": {},
     "output_type": "execute_result"
    }
   ],
   "source": [
    "df = pd.read_csv (\"driving_log.csv\")\n",
    "df.shape"
   ]
  },
  {
   "cell_type": "code",
   "execution_count": 24,
   "id": "d1ea66c5",
   "metadata": {},
   "outputs": [
    {
     "data": {
      "text/html": [
       "<div>\n",
       "<style scoped>\n",
       "    .dataframe tbody tr th:only-of-type {\n",
       "        vertical-align: middle;\n",
       "    }\n",
       "\n",
       "    .dataframe tbody tr th {\n",
       "        vertical-align: top;\n",
       "    }\n",
       "\n",
       "    .dataframe thead th {\n",
       "        text-align: right;\n",
       "    }\n",
       "</style>\n",
       "<table border=\"1\" class=\"dataframe\">\n",
       "  <thead>\n",
       "    <tr style=\"text-align: right;\">\n",
       "      <th></th>\n",
       "      <th>C:\\Users\\stijn\\Documents\\GitHub\\s22-team6-project\\Data\\Car_Data\\IMG\\center_2022_04_02_16_47_32_656.jpg</th>\n",
       "      <th>C:\\Users\\stijn\\Documents\\GitHub\\s22-team6-project\\Data\\Car_Data\\IMG\\left_2022_04_02_16_47_32_656.jpg</th>\n",
       "      <th>C:\\Users\\stijn\\Documents\\GitHub\\s22-team6-project\\Data\\Car_Data\\IMG\\right_2022_04_02_16_47_32_656.jpg</th>\n",
       "      <th>0</th>\n",
       "      <th>0.1</th>\n",
       "      <th>0.2</th>\n",
       "      <th>11.46711</th>\n",
       "    </tr>\n",
       "  </thead>\n",
       "  <tbody>\n",
       "    <tr>\n",
       "      <th>0</th>\n",
       "      <td>C:\\Users\\stijn\\Documents\\GitHub\\s22-team6-proj...</td>\n",
       "      <td>C:\\Users\\stijn\\Documents\\GitHub\\s22-team6-proj...</td>\n",
       "      <td>C:\\Users\\stijn\\Documents\\GitHub\\s22-team6-proj...</td>\n",
       "      <td>0.0</td>\n",
       "      <td>0.0</td>\n",
       "      <td>0</td>\n",
       "      <td>11.47556</td>\n",
       "    </tr>\n",
       "    <tr>\n",
       "      <th>1</th>\n",
       "      <td>C:\\Users\\stijn\\Documents\\GitHub\\s22-team6-proj...</td>\n",
       "      <td>C:\\Users\\stijn\\Documents\\GitHub\\s22-team6-proj...</td>\n",
       "      <td>C:\\Users\\stijn\\Documents\\GitHub\\s22-team6-proj...</td>\n",
       "      <td>0.0</td>\n",
       "      <td>0.0</td>\n",
       "      <td>0</td>\n",
       "      <td>11.32982</td>\n",
       "    </tr>\n",
       "    <tr>\n",
       "      <th>2</th>\n",
       "      <td>C:\\Users\\stijn\\Documents\\GitHub\\s22-team6-proj...</td>\n",
       "      <td>C:\\Users\\stijn\\Documents\\GitHub\\s22-team6-proj...</td>\n",
       "      <td>C:\\Users\\stijn\\Documents\\GitHub\\s22-team6-proj...</td>\n",
       "      <td>0.0</td>\n",
       "      <td>0.0</td>\n",
       "      <td>0</td>\n",
       "      <td>11.23149</td>\n",
       "    </tr>\n",
       "    <tr>\n",
       "      <th>3</th>\n",
       "      <td>C:\\Users\\stijn\\Documents\\GitHub\\s22-team6-proj...</td>\n",
       "      <td>C:\\Users\\stijn\\Documents\\GitHub\\s22-team6-proj...</td>\n",
       "      <td>C:\\Users\\stijn\\Documents\\GitHub\\s22-team6-proj...</td>\n",
       "      <td>0.0</td>\n",
       "      <td>0.0</td>\n",
       "      <td>0</td>\n",
       "      <td>11.25368</td>\n",
       "    </tr>\n",
       "    <tr>\n",
       "      <th>4</th>\n",
       "      <td>C:\\Users\\stijn\\Documents\\GitHub\\s22-team6-proj...</td>\n",
       "      <td>C:\\Users\\stijn\\Documents\\GitHub\\s22-team6-proj...</td>\n",
       "      <td>C:\\Users\\stijn\\Documents\\GitHub\\s22-team6-proj...</td>\n",
       "      <td>0.0</td>\n",
       "      <td>0.0</td>\n",
       "      <td>0</td>\n",
       "      <td>11.12320</td>\n",
       "    </tr>\n",
       "  </tbody>\n",
       "</table>\n",
       "</div>"
      ],
      "text/plain": [
       "  C:\\Users\\stijn\\Documents\\GitHub\\s22-team6-project\\Data\\Car_Data\\IMG\\center_2022_04_02_16_47_32_656.jpg  \\\n",
       "0  C:\\Users\\stijn\\Documents\\GitHub\\s22-team6-proj...                                                       \n",
       "1  C:\\Users\\stijn\\Documents\\GitHub\\s22-team6-proj...                                                       \n",
       "2  C:\\Users\\stijn\\Documents\\GitHub\\s22-team6-proj...                                                       \n",
       "3  C:\\Users\\stijn\\Documents\\GitHub\\s22-team6-proj...                                                       \n",
       "4  C:\\Users\\stijn\\Documents\\GitHub\\s22-team6-proj...                                                       \n",
       "\n",
       "  C:\\Users\\stijn\\Documents\\GitHub\\s22-team6-project\\Data\\Car_Data\\IMG\\left_2022_04_02_16_47_32_656.jpg  \\\n",
       "0  C:\\Users\\stijn\\Documents\\GitHub\\s22-team6-proj...                                                     \n",
       "1  C:\\Users\\stijn\\Documents\\GitHub\\s22-team6-proj...                                                     \n",
       "2  C:\\Users\\stijn\\Documents\\GitHub\\s22-team6-proj...                                                     \n",
       "3  C:\\Users\\stijn\\Documents\\GitHub\\s22-team6-proj...                                                     \n",
       "4  C:\\Users\\stijn\\Documents\\GitHub\\s22-team6-proj...                                                     \n",
       "\n",
       "  C:\\Users\\stijn\\Documents\\GitHub\\s22-team6-project\\Data\\Car_Data\\IMG\\right_2022_04_02_16_47_32_656.jpg  \\\n",
       "0  C:\\Users\\stijn\\Documents\\GitHub\\s22-team6-proj...                                                      \n",
       "1  C:\\Users\\stijn\\Documents\\GitHub\\s22-team6-proj...                                                      \n",
       "2  C:\\Users\\stijn\\Documents\\GitHub\\s22-team6-proj...                                                      \n",
       "3  C:\\Users\\stijn\\Documents\\GitHub\\s22-team6-proj...                                                      \n",
       "4  C:\\Users\\stijn\\Documents\\GitHub\\s22-team6-proj...                                                      \n",
       "\n",
       "     0  0.1  0.2  11.46711  \n",
       "0  0.0  0.0    0  11.47556  \n",
       "1  0.0  0.0    0  11.32982  \n",
       "2  0.0  0.0    0  11.23149  \n",
       "3  0.0  0.0    0  11.25368  \n",
       "4  0.0  0.0    0  11.12320  "
      ]
     },
     "execution_count": 24,
     "metadata": {},
     "output_type": "execute_result"
    }
   ],
   "source": [
    "df.head()"
   ]
  },
  {
   "cell_type": "markdown",
   "id": "fc7443a6",
   "metadata": {},
   "source": [
    "Format of excel file is:\n",
    "\n",
    "| Location Left Cam | Location Middle Cam | Location Right Cam | Steering Input | Throttle Input | Brake Input | Speed |\n",
    "\n",
    "For our project we will only use the middle camera of the car and the steering input\n"
   ]
  },
  {
   "cell_type": "code",
   "execution_count": 25,
   "id": "435214f2",
   "metadata": {},
   "outputs": [],
   "source": [
    "#### getting steering inputs"
   ]
  },
  {
   "cell_type": "code",
   "execution_count": 26,
   "id": "af2e897a",
   "metadata": {},
   "outputs": [
    {
     "data": {
      "text/plain": [
       "0    0.0\n",
       "1    0.0\n",
       "2    0.0\n",
       "3    0.0\n",
       "4    0.0\n",
       "Name: 0, dtype: float64"
      ]
     },
     "execution_count": 26,
     "metadata": {},
     "output_type": "execute_result"
    }
   ],
   "source": [
    "steeringInput = df.iloc[:,3]\n",
    "steeringInput.head()"
   ]
  },
  {
   "cell_type": "code",
   "execution_count": 27,
   "id": "c56d4d8e",
   "metadata": {},
   "outputs": [],
   "source": [
    "#### plotting steering input"
   ]
  },
  {
   "cell_type": "code",
   "execution_count": 33,
   "id": "923d93a6",
   "metadata": {},
   "outputs": [
    {
     "ename": "NameError",
     "evalue": "name 'center' is not defined",
     "output_type": "error",
     "traceback": [
      "\u001b[1;31m---------------------------------------------------------------------------\u001b[0m",
      "\u001b[1;31mNameError\u001b[0m                                 Traceback (most recent call last)",
      "Input \u001b[1;32mIn [33]\u001b[0m, in \u001b[0;36m<cell line: 1>\u001b[1;34m()\u001b[0m\n\u001b[1;32m----> 1\u001b[0m plt\u001b[38;5;241m.\u001b[39mbar(\u001b[43mcenter\u001b[49m,gist,witdh\u001b[38;5;241m=\u001b[39m\u001b[38;5;241m0.05\u001b[39m)\n",
      "\u001b[1;31mNameError\u001b[0m: name 'center' is not defined"
     ]
    }
   ],
   "source": [
    "columns = [\"left_cam\",\"middle_cam\",\"right_cam\",\"steering\",\"throttle\",\"brake\",\"speed\"]"
   ]
  },
  {
   "cell_type": "code",
   "execution_count": null,
   "id": "91fbbb08",
   "metadata": {},
   "outputs": [],
   "source": []
  }
 ],
 "metadata": {
  "kernelspec": {
   "display_name": "cpu",
   "language": "python",
   "name": "myenv"
  },
  "language_info": {
   "codemirror_mode": {
    "name": "ipython",
    "version": 3
   },
   "file_extension": ".py",
   "mimetype": "text/x-python",
   "name": "python",
   "nbconvert_exporter": "python",
   "pygments_lexer": "ipython3",
   "version": "3.9.11"
  }
 },
 "nbformat": 4,
 "nbformat_minor": 5
}
