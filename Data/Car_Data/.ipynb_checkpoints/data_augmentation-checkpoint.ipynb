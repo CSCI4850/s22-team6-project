{
 "cells": [
  {
   "cell_type": "code",
   "execution_count": 1,
   "id": "20855976",
   "metadata": {},
   "outputs": [],
   "source": [
    "import pandas as pd"
   ]
  },
  {
   "cell_type": "code",
   "execution_count": 3,
   "id": "9ebb4401",
   "metadata": {},
   "outputs": [
    {
     "name": "stdout",
     "output_type": "stream",
     "text": [
      "<class 'pandas.core.frame.DataFrame'>\n",
      "RangeIndex: 7433 entries, 0 to 7432\n",
      "Data columns (total 3 columns):\n",
      " #   Column      Non-Null Count  Dtype  \n",
      "---  ------      --------------  -----  \n",
      " 0   Unnamed: 0  7433 non-null   int64  \n",
      " 1   middle_cam  7433 non-null   object \n",
      " 2   steering    7433 non-null   float64\n",
      "dtypes: float64(1), int64(1), object(1)\n",
      "memory usage: 174.3+ KB\n"
     ]
    }
   ],
   "source": [
    "df = pd.read_csv(\"middle_camera_and_steering.csv\")\n",
    "df.info()"
   ]
  },
  {
   "cell_type": "code",
   "execution_count": 4,
   "id": "d2113419",
   "metadata": {},
   "outputs": [],
   "source": [
    "#flip all images so we have double the data\n",
    "\n"
   ]
  },
  {
   "cell_type": "code",
   "execution_count": null,
   "id": "315c3732",
   "metadata": {},
   "outputs": [],
   "source": []
  }
 ],
 "metadata": {
  "kernelspec": {
   "display_name": "cpu",
   "language": "python",
   "name": "myenv"
  },
  "language_info": {
   "codemirror_mode": {
    "name": "ipython",
    "version": 3
   },
   "file_extension": ".py",
   "mimetype": "text/x-python",
   "name": "python",
   "nbconvert_exporter": "python",
   "pygments_lexer": "ipython3",
   "version": "3.9.11"
  }
 },
 "nbformat": 4,
 "nbformat_minor": 5
}
