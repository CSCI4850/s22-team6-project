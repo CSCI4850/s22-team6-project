{
 "cells": [
  {
   "cell_type": "markdown",
   "id": "c68300fc",
   "metadata": {},
   "source": [
    "#### File that merges the 2 data sets we've collected and puts all the directions in a cvs and the images together in a folder"
   ]
  },
  {
   "cell_type": "code",
   "execution_count": 2,
   "id": "83fe3552",
   "metadata": {},
   "outputs": [],
   "source": [
    "import pandas as pd\n",
    "import cv2\n",
    "import numpy as np\n",
    "from numpy import asarray\n",
    "import matplotlib.pyplot as plt\n",
    "from matplotlib import cm\n",
    "from PIL import Image "
   ]
  },
  {
   "cell_type": "markdown",
   "id": "29ec9a39",
   "metadata": {},
   "source": [
    "#### importing the first data file"
   ]
  },
  {
   "cell_type": "code",
   "execution_count": null,
   "id": "6b592a43",
   "metadata": {},
   "outputs": [],
   "source": []
  },
  {
   "cell_type": "markdown",
   "id": "93e9f052",
   "metadata": {},
   "source": [
    "#### importing the second data file"
   ]
  },
  {
   "cell_type": "code",
   "execution_count": null,
   "id": "a77b27d6",
   "metadata": {},
   "outputs": [],
   "source": []
  },
  {
   "cell_type": "code",
   "execution_count": null,
   "id": "348d95d2",
   "metadata": {},
   "outputs": [],
   "source": []
  },
  {
   "cell_type": "code",
   "execution_count": null,
   "id": "6954429f",
   "metadata": {},
   "outputs": [],
   "source": []
  }
 ],
 "metadata": {
  "kernelspec": {
   "display_name": "cpu",
   "language": "python",
   "name": "myenv"
  },
  "language_info": {
   "codemirror_mode": {
    "name": "ipython",
    "version": 3
   },
   "file_extension": ".py",
   "mimetype": "text/x-python",
   "name": "python",
   "nbconvert_exporter": "python",
   "pygments_lexer": "ipython3",
   "version": "3.9.11"
  }
 },
 "nbformat": 4,
 "nbformat_minor": 5
}
