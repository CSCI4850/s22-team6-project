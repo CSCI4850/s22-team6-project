{
 "cells": [
  {
   "cell_type": "markdown",
   "id": "f2030214",
   "metadata": {},
   "source": [
    "#### File that merges the 2 data sets we've collected and puts all the directions in a cvs and the images together in a folder"
   ]
  },
  {
   "cell_type": "code",
   "execution_count": 2,
   "id": "ff68fa27",
   "metadata": {},
   "outputs": [],
   "source": [
    "import pandas as pd\n",
    "import cv2\n",
    "import numpy as np\n",
    "from numpy import asarray\n",
    "import matplotlib.pyplot as plt\n",
    "from matplotlib import cm\n",
    "from PIL import Image "
   ]
  },
  {
   "cell_type": "markdown",
   "id": "3566cabf",
   "metadata": {},
   "source": [
    "#### importing the first data file"
   ]
  },
  {
   "cell_type": "code",
   "execution_count": null,
   "id": "3f8be8b3",
   "metadata": {},
   "outputs": [],
   "source": []
  },
  {
   "cell_type": "markdown",
   "id": "028458f5",
   "metadata": {},
   "source": [
    "#### importing the second data file"
   ]
  },
  {
   "cell_type": "code",
   "execution_count": null,
   "id": "12faa067",
   "metadata": {},
   "outputs": [],
   "source": []
  },
  {
   "cell_type": "code",
   "execution_count": null,
   "id": "912fac5b",
   "metadata": {},
   "outputs": [],
   "source": []
  },
  {
   "cell_type": "code",
   "execution_count": null,
   "id": "9a4e6096",
   "metadata": {},
   "outputs": [],
   "source": []
  }
 ],
 "metadata": {
  "kernelspec": {
   "display_name": "cpu",
   "language": "python",
   "name": "myenv"
  },
  "language_info": {
   "codemirror_mode": {
    "name": "ipython",
    "version": 3
   },
   "file_extension": ".py",
   "mimetype": "text/x-python",
   "name": "python",
   "nbconvert_exporter": "python",
   "pygments_lexer": "ipython3",
   "version": "3.9.11"
  }
 },
 "nbformat": 4,
 "nbformat_minor": 5
}
