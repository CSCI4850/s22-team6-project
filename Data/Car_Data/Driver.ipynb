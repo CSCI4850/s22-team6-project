{
 "cells": [
  {
   "cell_type": "code",
   "execution_count": 8,
   "metadata": {},
   "outputs": [
    {
     "ename": "ModuleNotFoundError",
     "evalue": "No module named 'keras'",
     "output_type": "error",
     "traceback": [
      "\u001b[1;31m---------------------------------------------------------------------------\u001b[0m",
      "\u001b[1;31mModuleNotFoundError\u001b[0m                       Traceback (most recent call last)",
      "\u001b[1;32m<ipython-input-8-e7f0ae547705>\u001b[0m in \u001b[0;36m<module>\u001b[1;34m\u001b[0m\n\u001b[0;32m     10\u001b[0m \u001b[1;33m\u001b[0m\u001b[0m\n\u001b[0;32m     11\u001b[0m \u001b[1;31m#import libraries\u001b[0m\u001b[1;33m\u001b[0m\u001b[1;33m\u001b[0m\u001b[1;33m\u001b[0m\u001b[0m\n\u001b[1;32m---> 12\u001b[1;33m \u001b[1;32mfrom\u001b[0m \u001b[0mkeras\u001b[0m\u001b[1;33m.\u001b[0m\u001b[0mmodels\u001b[0m \u001b[1;32mimport\u001b[0m \u001b[0mload_model\u001b[0m \u001b[1;31m#for importing the model\u001b[0m\u001b[1;33m\u001b[0m\u001b[1;33m\u001b[0m\u001b[0m\n\u001b[0m\u001b[0;32m     13\u001b[0m \u001b[1;32mimport\u001b[0m \u001b[0mnumpy\u001b[0m \u001b[1;32mas\u001b[0m \u001b[0mnp\u001b[0m                  \u001b[1;31m#for calculations and converting between formats\u001b[0m\u001b[1;33m\u001b[0m\u001b[1;33m\u001b[0m\u001b[0m\n\u001b[0;32m     14\u001b[0m \u001b[1;32mfrom\u001b[0m \u001b[0mio\u001b[0m \u001b[1;32mimport\u001b[0m \u001b[0mBytesIO\u001b[0m              \u001b[1;31m#for input and output\u001b[0m\u001b[1;33m\u001b[0m\u001b[1;33m\u001b[0m\u001b[0m\n",
      "\u001b[1;31mModuleNotFoundError\u001b[0m: No module named 'keras'"
     ]
    }
   ],
   "source": [
    "#Driver file that:\n",
    "# 1) imports a generated model by CNN_model.ipynb\n",
    "# 2) connect to the simulation\n",
    "# 3) retrieves input data from sim\n",
    "# 4) decodes input data and feeds it to the model\n",
    "# 5) use the model to predict an action for the car\n",
    "# 6) send that action to the car\n",
    "\n",
    "# THIS PROGRAM RUNS THE SIMULATION\n",
    "\n",
    "#import libraries\n",
    "from keras.models import load_model #for importing the model\n",
    "import numpy as np                  #for calculations and converting between formats\n",
    "from io import BytesIO              #for input and output\n",
    "import socketio                     #for connecting to simualation\n",
    "import os                           #for os actions\n",
    "import base64                       #for decoding images that come from the simulation\n",
    "from flask import Flask             #net framework that we use to connect\n",
    "\n",
    "#model name\n",
    "MODEL_NAME = \"car.h5\"\n",
    "\n",
    "#min and max speed:\n",
    "MIN_SPEED = 0\n",
    "MAX_SPEED = 10\n",
    "\n",
    "\n",
    "#set up connection to simulation\n",
    "\n",
    "\n",
    "\n",
    "\n",
    "\n",
    "\n",
    "    \n",
    "\n",
    "    \n",
    "#retrieves the frame/image from the simulation and decodes it\n",
    "def getImage():\n",
    "    print(\"placeholder\")\n",
    "\n",
    "    \n",
    "#process the image to the format that the model has been trained on\n",
    "def preProcess(image): \n",
    "    \n",
    "    #note by stijn:\n",
    "    #used the same preprocessing steps as I did for training the model\n",
    "    #should help the model perform better in the actual simulation\n",
    "    image = image[60:130,:,:]                                     #crops image\n",
    "    image = np.float32(image)                                     #convert to float\n",
    "    image = cv2.cvtColor(image,cv2.COLOR_BGR2YUV)                 #convert rbg to yuv for better line detection\n",
    "    image = cv2.GaussianBlur(image,(gausblur,gausblur),0)         #add light gassianblur\n",
    "    image = cv2.resize(image,(width,height))                      #resize the image so that it can be processed faster\n",
    "    image = image/255\n",
    "    return image\n",
    "    \n",
    "    \n",
    "\n",
    "    \n",
    "#imports a *.h5 model from the same directory\n",
    "def importModel(MODEL_NAME):\n",
    "    \n",
    "    #import model using keras\n",
    "    model = \"model-import-here\"\n",
    "    \n",
    "    \n",
    "    return model #returns the .h5 model\n",
    "    \n"
   ]
  },
  {
   "cell_type": "code",
   "execution_count": null,
   "metadata": {},
   "outputs": [],
   "source": []
  }
 ],
 "metadata": {
  "kernelspec": {
   "display_name": "Python 3",
   "language": "python",
   "name": "python3"
  },
  "language_info": {
   "codemirror_mode": {
    "name": "ipython",
    "version": 3
   },
   "file_extension": ".py",
   "mimetype": "text/x-python",
   "name": "python",
   "nbconvert_exporter": "python",
   "pygments_lexer": "ipython3",
   "version": "3.8.3"
  }
 },
 "nbformat": 4,
 "nbformat_minor": 4
}
