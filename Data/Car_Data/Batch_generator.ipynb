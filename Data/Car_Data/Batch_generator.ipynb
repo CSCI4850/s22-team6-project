{
 "cells": [
  {
   "cell_type": "code",
   "execution_count": 24,
   "id": "cdd61260-aa96-4a55-b5ce-c3ac749ca6d1",
   "metadata": {},
   "outputs": [],
   "source": [
    "import numpy as np\n",
    "\n",
    "def batch_generator(x_train_processed, y_train, batch_size):\n",
    "    # Custom functions to create a batch of training images and steering angles, assumes inputs pre-processed\n",
    "    images_out = np.empty([batch_size, 60, 200, 3]) # Creates an empty numpy array able to hold images that are 60x200 with 3 color channels\n",
    "    steering_out = np.empty(batch_size)\n",
    "    \n",
    "    num_batch = 0\n",
    "    while(num_batch < batch_size):\n",
    "        for index in np.random.permutation(x_train_processed.shape[0]):\n",
    "            # Choose a random image from x_train_processed and associated steering angle value from y_train\n",
    "            image = x_train_processed[index]\n",
    "            steering_angle = y_train[index]\n",
    "            images_out[num_batch] = image\n",
    "            steering_out = steering_angle\n",
    "        num_batch +=1\n",
    "        yield images_out, steering_out"
   ]
  },
  {
   "cell_type": "code",
   "execution_count": null,
   "id": "10a55b7b-070d-464a-a72a-7db1ebb2e346",
   "metadata": {},
   "outputs": [],
   "source": []
  }
 ],
 "metadata": {
  "kernelspec": {
   "display_name": "Python 3 (ipykernel)",
   "language": "python",
   "name": "python3"
  },
  "language_info": {
   "codemirror_mode": {
    "name": "ipython",
    "version": 3
   },
   "file_extension": ".py",
   "mimetype": "text/x-python",
   "name": "python",
   "nbconvert_exporter": "python",
   "pygments_lexer": "ipython3",
   "version": "3.9.7"
  }
 },
 "nbformat": 4,
 "nbformat_minor": 5
}
