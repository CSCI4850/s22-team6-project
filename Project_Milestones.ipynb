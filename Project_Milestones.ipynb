{
 "cells": [
  {
   "cell_type": "markdown",
   "id": "bb8b845f",
   "metadata": {},
   "source": [
    "**<center>Team Leabra: Project Milestone (March 15th, 2022)</center>**"
   ]
  },
  {
   "cell_type": "markdown",
   "id": "498c6b31",
   "metadata": {},
   "source": [
    "| Deliverable | Percent Complete | Estimated Completion Date | Percent Complete By Next Milestone |\n",
    "| :- | :- | :- | :- |\n",
    "| Hardware | 90% | March 14 | 100% |\n",
    "| Code | 0% | April 20 | 25% |\n",
    "| Demo | 0% | April 25 | 5% |\n",
    "| Presentation | 0% | April 28 | 5% |"
   ]
  },
  {
   "cell_type": "markdown",
   "id": "7c4b68af",
   "metadata": {},
   "source": [
    "**1. What deliverables goals established in the last milestone report were accomplished to the anticipated percentage?**\n",
    "\n",
    "This is the first milestone in the project. Our main deliverable goal as a team was to get the hardware for the R/C car setup so that we would be able to determine if that was a viable option or if we had to go with a software based model (simulation).\n",
    "We set up the car using a pre-built plastic frame to which four independent motors were attached. The motors were connected to an Arduino Uno for motor control and then powered by four AA batteries. We also added a Raspberry PI for to control the entire system. A camera module was attached to the Raspberry PI 4 for image detection. We are now done with the hardware phase of the vehicle and will tackle the software setup in the next phase.\n",
    "\n",
    "The only hardware involved part that is left to create is the track that the car will run and train on. We are planning to use white paper with colored tape on the edges."
   ]
  },
  {
   "cell_type": "markdown",
   "id": "d291b836",
   "metadata": {},
   "source": [
    "**2. What deliverables goals established in the last milestone report were not accomplished to the anticipated percentage?**\n",
    "\n",
    "We had initially anticipated to get the software set up on the R/C car but we were not able to fully accomplish this. One problem we faced was lack of equipment to solder wires on to the Arduino. This pushed back the timeline for setting up the hardware on the vehicle which was essential for us to move on to the software set up."
   ]
  },
  {
   "cell_type": "markdown",
   "id": "f178dbbd",
   "metadata": {},
   "source": [
    "**3. What are the main deliverable goals to meet before the next milestone report, and who is working on them?**\n",
    "\n",
    "The main deliverable goals to be met for the next milestone are:\n",
    "\n",
    "Software Setup on R/C car and lane/track creation -> Kwabena Fosuhene & Patrick Burnett. <br>\n",
    "OpenCV code for image detection and finding additional data sets for sign recogniton -> Stijn Slump & James Coyle. <br>\n",
    "Initial code to control vehicle motors -> Le'Shawn Sears <br>\n",
    "Neural Network planning and setup -> Entire Team\n",
    "\n",
    "This is what we are planning so far; group member duties may change depending on individual capabilites"
   ]
  },
  {
   "cell_type": "markdown",
   "id": "03a39e05",
   "metadata": {},
   "source": [
    "<center>_______________________________________________________________________________________________</center>"
   ]
  },
  {
   "cell_type": "markdown",
   "id": "81ca785d",
   "metadata": {},
   "source": [
    "**<center>Team Leabra: Project Milestone (March 21th, 2022)</center>**"
   ]
  },
  {
   "cell_type": "markdown",
   "id": "939466b9",
   "metadata": {},
   "source": [
    "| Deliverable | Percent Complete | Estimated Completion Date | Percent Complete By Next Milestone |\n",
    "| :- | :- | :- | :- |\n",
    "| Hardware | 100% | March 21 | 100% |\n",
    "| Code | 5% | April 20 | 25% |\n",
    "| Demo | 0% | April 25 | 0% |\n",
    "| Presentation | 0% | April 28 | 0% |"
   ]
  },
  {
   "cell_type": "markdown",
   "id": "ac46c383",
   "metadata": {},
   "source": [
    "**1. What deliverables goals established in the last milestone report were accomplished to the anticipated percentage?**\n",
    "\n",
    "Now that the hardware setup of the car is complete and the arduino issues are resolved we have shifted our focus to installing the necessary software on the car. A operating system is currently installed and the necessary libraries will be installed soon.\n"
   ]
  },
  {
   "cell_type": "markdown",
   "id": "b43df6a0",
   "metadata": {},
   "source": [
    "**2. What deliverables goals established in the last milestone report were not accomplished to the anticipated percentage?**\n",
    "\n",
    "\n",
    "The code part of the project has stagnated a bit as the OS of the Raspberry Pi has only just been installed. However, we have collected some quality datasets. From these datasets we are currently creating Haarcascades which, when finished, can be used for object detection of traffic signs.\n",
    "\n",
    "also, we have decided the push the demo and presentation aspects of the project forward as we want to prioritize development of the car.\n",
    "\n"
   ]
  },
  {
   "cell_type": "markdown",
   "id": "049548f0",
   "metadata": {},
   "source": [
    "**3. What are the main deliverable goals to meet before the next milestone report, and who is working on them?**\n",
    "\n",
    "The next step for the people responsible for the hardware would be to set up a serial connection between the raspberry, the arduino, and the motor controllers. -> Kwabena Fosuhene & Patrick Burnett.\n",
    "\n",
    "For the people that currently do most of the coding, finishing and testing .the haarcascades that are used in object detection would be a good achievement for the next milestone -> Stijn Slump & James Coyle\n",
    "\n",
    "Now that we have an operating system running on the RSP start writing the initial code to control vehicle motors. -> Le'Shawn Sears\n",
    "\n",
    "Neural Network planning and setup -> Entire Team\n"
   ]
  },
  {
   "cell_type": "markdown",
   "id": "7ccaee9e",
   "metadata": {},
   "source": [
    "<center>_______________________________________________________________________________________________</center>"
   ]
  },
  {
   "cell_type": "markdown",
   "id": "34276549",
   "metadata": {},
   "source": [
    "**<center>Team Leabra: Project Milestone (March 28th, 2022)</center>**"
   ]
  },
  {
   "cell_type": "markdown",
   "id": "5568bc4f",
   "metadata": {},
   "source": [
    "| Deliverable | Percent Complete | Estimated Completion Date | Percent Complete By Next Milestone |\n",
    "| :- | :- | :- | :- |\n",
    "| Hardware | 100% | March 21 | 100% |\n",
    "| Code | 20% | April 20 | 45% |\n",
    "| Demo | 0% | April 25 | 0% |\n",
    "| Presentation | 0% | April 28 | 0% |"
   ]
  },
  {
   "cell_type": "markdown",
   "id": "23844c71",
   "metadata": {},
   "source": [
    "**1. What deliverables goals established in the last milestone report were accomplished to the anticipated percentage?**\n",
    "\n",
    "We have made a lot of process on the coding part of the project. The development of the line-detection software has been going well, only thing left for that is to get the cars current position (distance to right&left line) on the track.\n",
    "\n",
    "Install OS on raspberry pi and physically linked arduino to raspberry.\n",
    "\n",
    "A test haarcascade has been created for the stopsign using machine learning (adaboost). Perfomance of the cascade isn't optimal yet and will need improvement if we want to deploy it onto the car.\n",
    "\n",
    "There have been talks on how to implement the neural network and we decided will start working writing the actual code when the car is up and running."
   ]
  },
  {
   "cell_type": "markdown",
   "id": "88d15037",
   "metadata": {},
   "source": [
    "**2. What deliverables goals established in the last milestone report were not accomplished to the anticipated percentage?**\n",
    "\n",
    "Install the necessary libraries on the raspberry. We had some logistic issues because the person who was supposed to work on this didn't have access to the RC car\n",
    "\n",
    "For the same reason the motor control code hasn't been written just yet. Another thing that should be done before the next milestone is have the arduino and the raspberry talking to eachother\n",
    "\n",
    "We need to improve performance of the object detection, current haarcascades do not perform well enough."
   ]
  },
  {
   "cell_type": "markdown",
   "id": "e2f790fa",
   "metadata": {},
   "source": [
    "**3. What are the main deliverable goals to meet before the next milestone report, and who is working on them?**\n",
    "\n",
    "Write motor controller code -> Kwabena\n",
    "\n",
    "Continue developing linedetection code -> Stijn\n",
    "\n",
    "Set connection between raspberry and arduino -> Patrick\n",
    "\n",
    "Set up libraries for raspberry -> Patrick\n",
    "\n",
    "create haarscascades for stopsign and speel limits -> Stijn\n",
    "\n"
   ]
  },
  {
   "cell_type": "markdown",
   "id": "dd72200d",
   "metadata": {},
   "source": [
    "<center>_______________________________________________________________________________________________</center>"
   ]
  },
  {
   "cell_type": "markdown",
   "id": "71965c83",
   "metadata": {},
   "source": [
    "**<center>Team Leabra: Project Milestone (April 4th, 2022)</center>**"
   ]
  },
  {
   "cell_type": "markdown",
   "id": "dee8b1e4",
   "metadata": {},
   "source": [
    "| Deliverable | Percent Complete | Estimated Completion Date | Percent Complete By Next Milestone |\n",
    "| :- | :- | :- | :- |\n",
    "| Code | 25% | April 20 | 50% |\n",
    "| Demo | 0% | April 25 | 0% |\n",
    "| Presentation | 0% | April 28 | 0% |"
   ]
  },
  {
   "cell_type": "markdown",
   "id": "683bb48e",
   "metadata": {},
   "source": [
    "**1. What deliverables goals established in the last milestone report were accomplished to the anticipated percentage?**\n",
    "\n",
    "We had a massive setback as we have lost the car because one of our group members has dropped the class. We are now trying to get back on schedule by instead of using the car, we use a simulation that is hosted in unity. The simulation is developed by someone else and is will therefore be easily implementable. This is great as it will allow us to gain back some of the lost time which we used on building and setting up the RC car.\n",
    "\n",
    "Because we don't have to drive the car in real life, we were already able to capture driving data from the simulation which can be used for training.\n",
    "\n",
    "Line detection has also been improved, it's still unknown whether this will be useful in the simulation but we are planning on trying.\n"
   ]
  },
  {
   "cell_type": "markdown",
   "id": "c8cf5355",
   "metadata": {},
   "source": [
    "**2. What deliverables goals established in the last milestone report were not accomplished to the anticipated percentage?**\n",
    "\n",
    "All goals that included working on the RC have been dropped and therefore have not been completed. This meant all goals apart from improving the linedetection have not been completed.\n",
    "\n"
   ]
  },
  {
   "cell_type": "markdown",
   "id": "d844af32",
   "metadata": {},
   "source": [
    "**3. What are the main deliverable goals to meet before the next milestone report, and who is working on them?**\n",
    "\n",
    "Start working on the CNN -> Patrick\n",
    "\n",
    "create data augmention code -> Stijn\n",
    "\n",
    "clean training data -> Stijn\n",
    "\n",
    "write code to connect to simulation -> Patrick\n",
    "\n",
    "\n",
    "\n"
   ]
  },
  {
   "cell_type": "markdown",
   "id": "88580fba",
   "metadata": {},
   "source": [
    "<center>_______________________________________________________________________________________________</center>"
   ]
  },
  {
   "cell_type": "markdown",
   "id": "9e9815fd",
   "metadata": {},
   "source": [
    "**<center>Team Leabra: Project Milestone (April 11th, 2022)</center>**"
   ]
  },
  {
   "cell_type": "markdown",
   "id": "b08a3984",
   "metadata": {},
   "source": [
    "| Deliverable | Percent Complete | Estimated Completion Date | Percent Complete By Next Milestone |\n",
    "| :- | :- | :- | :- |\n",
    "| Code | 60% | April 20 | 90% |\n",
    "| Demo | 0% | April 25 | 50% |\n",
    "| Presentation | 0% | April 28 | 50% |"
   ]
  },
  {
   "cell_type": "markdown",
   "id": "1165f529",
   "metadata": {},
   "source": [
    "**1. What deliverables goals established in the last milestone report were accomplished to the anticipated percentage?**\n",
    "\n",
    "All the training data has been cleaned and processed for better perfomance while model fitting. Data has also been augmented so that we have more training data to work with. Also started working on the Neural Network and did a couple of test runs with the training data, perfomance of the actual model can't be tested yet as we don't have the code that connects the model with the simulation working yet.\n"
   ]
  },
  {
   "cell_type": "markdown",
   "id": "43ff025e",
   "metadata": {},
   "source": [
    "**2. What deliverables goals established in the last milestone report were not accomplished to the anticipated percentage?**\n",
    "\n",
    "the code to connect to the simulation isn't finished yet. Should be finished in the next couple of days so that we can start testing the models in the simualtion\n"
   ]
  },
  {
   "cell_type": "markdown",
   "id": "a24ecc7b",
   "metadata": {},
   "source": [
    "**3. What are the main deliverable goals to meet before the next milestone report, and who is working on them?**\n",
    "\n",
    "Continue working on the CNN -> Patrick & Stijn\n",
    "\n",
    "write code to connect to simulation -> Patrick\n",
    "\n",
    "\n",
    "\n"
   ]
  },
  {
   "cell_type": "markdown",
   "id": "acc9a523",
   "metadata": {},
   "source": [
    "<center>_______________________________________________________________________________________________</center>"
   ]
  },
  {
   "cell_type": "markdown",
   "id": "9cccb149-4bd0-4003-8933-ff9ce5503883",
   "metadata": {},
   "source": [
    "**<center>Team Leabra: Project Milestone (April 18th, 2022)</center>**"
   ]
  },
  {
   "cell_type": "markdown",
   "id": "101e7fea-23ef-4673-b073-779c58f3579d",
   "metadata": {},
   "source": [
    "| Deliverable | Percent Complete | Estimated Completion Date | Percent Complete By Next Milestone |\n",
    "| :- | :- | :- | :- |\n",
    "| Code | 60% | April 20 | 100% |\n",
    "| Demo | 0% | April 25 | 50% |\n",
    "| Presentation | 0% | April 28 | 50% |"
   ]
  },
  {
   "cell_type": "markdown",
   "id": "3ef7f170-04c3-4340-b14f-8bd462d37efc",
   "metadata": {},
   "source": [
    "**1. What deliverables goals established in the last milestone report were accomplished to the anticipated percentage?**\n",
    "\n",
    "We have continued to refine the network to reach a higher training accuracy. \n"
   ]
  },
  {
   "cell_type": "markdown",
   "id": "67481f09-61a6-432f-b728-2c430db94272",
   "metadata": {},
   "source": [
    "**2. What deliverables goals established in the last milestone report were not accomplished to the anticipated percentage?**\n",
    "\n",
    "There are still errors in the code needed to connect to the simulation so the model still can't be tested.\n"
   ]
  },
  {
   "cell_type": "markdown",
   "id": "4ff5e9a8-bb2b-4565-b2db-f2175033a37c",
   "metadata": {},
   "source": [
    "**3. What are the main deliverable goals to meet before the next milestone report, and who is working on them?**\n",
    "\n",
    "Continue working on the CNN -> Patrick, Stijn, James\n",
    "\n",
    "Finish code to connect to simulation -> Patrick\n",
    "\n",
    "Collect more training data -> James\n",
    "\n",
    "\n"
   ]
  },
  {
   "cell_type": "markdown",
   "id": "7cf07759-63a5-4f1a-a387-04c6440bbaf1",
   "metadata": {},
   "source": [
    "<center>_______________________________________________________________________________________________</center>"
   ]
  },
  {
   "cell_type": "markdown",
   "id": "309ba45b-937a-455c-b907-ae8fca4a73ff",
   "metadata": {},
   "source": [
    "**<center>Team Leabra: Project Milestone (April 25th, 2022)</center>**"
   ]
  },
  {
   "cell_type": "markdown",
   "id": "179c1587-a544-4e1d-9bb0-186c82d342af",
   "metadata": {},
   "source": [
    "| Deliverable | Percent Complete | Estimated Completion Date | Percent Complete By Next Milestone |\n",
    "| :- | :- | :- | :- |\n",
    "| Code | 90% | May 2 | 100% |\n",
    "| Demo | 0% | May 2 | 100% |\n",
    "| Presentation | 0% | May 2 | 100% |"
   ]
  },
  {
   "cell_type": "markdown",
   "id": "2fed390f-a678-4ee2-864a-a646d3b68201",
   "metadata": {},
   "source": [
    "**1. What deliverables goals established in the last milestone report were accomplished to the anticipated percentage?**\n",
    "\n",
    "We have continued to work on the CNN and connecting to the simulation. All of the data needed for training has been collected"
   ]
  },
  {
   "cell_type": "markdown",
   "id": "6a850889-1d9d-488a-9525-1e46867d6a58",
   "metadata": {},
   "source": [
    "**2. What deliverables goals established in the last milestone report were not accomplished to the anticipated percentage?**\n",
    "\n",
    "The code for connecting to the simulation still has bugs that make it impossible to test the model on, the CNN needs further optimization."
   ]
  },
  {
   "cell_type": "markdown",
   "id": "3fc99975-6685-448f-97ce-eec4caf7f7ca",
   "metadata": {},
   "source": [
    "**3. What are the main deliverable goals to meet before the next milestone report, and who is working on them?**\n",
    "\n",
    "Optimize CNN -> Stijn, Patrick, James, Le'Shawn\n",
    "\n",
    "Finish code to connect to simulation -> Patrick\n",
    "\n",
    "Write Demo -> Stijn, Patrick, James, Le'Shawn\n",
    "\n",
    "Make Presentation -> Stijn, Patrick, James, Le'Shawn\n",
    "\n",
    "\n"
   ]
  },
  {
   "cell_type": "markdown",
   "id": "569d011d-7d28-4e21-8137-35cb6a4dccf8",
   "metadata": {},
   "source": [
    "<center>_______________________________________________________________________________________________</center>"
   ]
  },
  {
   "cell_type": "code",
   "execution_count": null,
   "id": "ddad9215-1a4f-4d76-88a2-8730c349bb99",
   "metadata": {},
   "outputs": [],
   "source": []
  }
 ],
 "metadata": {
  "kernelspec": {
   "display_name": "Python 3 (ipykernel)",
   "language": "python",
   "name": "python3"
  },
  "language_info": {
   "codemirror_mode": {
    "name": "ipython",
    "version": 3
   },
   "file_extension": ".py",
   "mimetype": "text/x-python",
   "name": "python",
   "nbconvert_exporter": "python",
   "pygments_lexer": "ipython3",
   "version": "3.9.7"
  }
 },
 "nbformat": 4,
 "nbformat_minor": 5
}
