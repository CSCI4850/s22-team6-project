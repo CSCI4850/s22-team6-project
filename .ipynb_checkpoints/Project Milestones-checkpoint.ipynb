{
 "cells": [
  {
   "cell_type": "markdown",
   "metadata": {},
   "source": [
    "**<center>Team Leabra: Project Milestone (March 15th, 2022)</center>**"
   ]
  },
  {
   "cell_type": "markdown",
   "metadata": {},
   "source": [
    "| Deliverable | Percent Complete | Estimated Completion Date | Percent Complete By Next Milestone |\n",
    "| :- | :- | :- | :- |\n",
    "| Hardware | 90% | March 14 | 100% |\n",
    "| Code | 0% | April 20 | 25% |\n",
    "| Demo | 0% | April 25 | 5% |\n",
    "| Presentation | 0% | April 28 | 5% |"
   ]
  },
  {
   "cell_type": "markdown",
   "metadata": {},
   "source": [
    "**1. What deliverables goals established in the last milestone report were accomplished to the anticipated percentage?**\n",
    "\n",
    "This is the first milestone in the project. Our main deliverable goal as a team was to get the hardware for the R/C car setup so that we would be able to determine if that was a viable option or if we had to go with a software based model (simulation).\n",
    "We set up the car using a pre-built plastic frame to which four independent motors were attached. The motors were connected to an Arduino Uno for motor control and then powered by four AA batteries. We also added a Raspberry PI for to control the entire system. A camera module was attached to the Raspberry PI 4 for image detection. We are now done with the hardware phase of the vehicle and will tackle the software setup in the next phase.\n",
    "\n",
    "The only hardware involved part that is left to create is the track that the car will run and train on. We are planning to use white paper with colored tape on the edges."
   ]
  },
  {
   "cell_type": "markdown",
   "metadata": {},
   "source": [
    "**2. What deliverables goals established in the last milestone report were not accomplished to the anticipated percentage?**\n",
    "\n",
    "We had initially anticipated to get the software set up on the R/C car but we were not able to fully accomplish this. One problem we faced was lack of equipment to solder wires on to the Arduino. This pushed back the timeline for setting up the hardware on the vehicle which was essential for us to move on to the software set up."
   ]
  },
  {
   "cell_type": "markdown",
   "metadata": {},
   "source": [
    "**3. What are the main deliverable goals to meet before the next milestone report, and who is working on them?**\n",
    "\n",
    "The main deliverable goals to be met for the next milestone are:\n",
    "\n",
    "Software Setup on R/C car and lane/track creation -> Kwabena Fosuhene & Patrick Burnett. <br>\n",
    "OpenCV code for image detection and finding additional data sets for sign recogniton -> Stijn Slump & James Coyle. <br>\n",
    "Initial code to control vehicle motors -> Le'Shawn Sears <br>\n",
    "Neural Network planning and setup -> Entire Team\n",
    "\n",
    "This is what we are planning so far; group member duties may change depending on individual capabilites"
   ]
  },
  {
   "cell_type": "markdown",
   "metadata": {},
   "source": [
    "<center>_______________________________________________________________________________________________</center>"
   ]
  },
  {
   "cell_type": "markdown",
   "metadata": {},
   "source": [
    "**<center>Team Leabra: Project Milestone (March 21th, 2022)</center>**"
   ]
  },
  {
   "cell_type": "code",
   "execution_count": null,
   "metadata": {},
   "outputs": [],
   "source": []
  }
 ],
 "metadata": {
  "kernelspec": {
   "display_name": "Python 3",
   "language": "python",
   "name": "python3"
  },
  "language_info": {
   "codemirror_mode": {
    "name": "ipython",
    "version": 3
   },
   "file_extension": ".py",
   "mimetype": "text/x-python",
   "name": "python",
   "nbconvert_exporter": "python",
   "pygments_lexer": "ipython3",
   "version": "3.8.3"
  }
 },
 "nbformat": 4,
 "nbformat_minor": 5
}
