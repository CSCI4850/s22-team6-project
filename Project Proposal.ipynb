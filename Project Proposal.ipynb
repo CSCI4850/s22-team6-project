{
 "cells": [
  {
   "cell_type": "markdown",
   "id": "fcdfaef8-8bae-421c-a91f-751af6edcb1d",
   "metadata": {},
   "source": [
    "Project Proposal\n"
   ]
  },
  {
   "cell_type": "markdown",
   "id": "29aafddd-279a-4f6b-a332-901f797efc4e",
   "metadata": {},
   "source": [
    "Team: Leabra"
   ]
  },
  {
   "cell_type": "markdown",
   "id": "ba7396c3-3a23-4124-bb94-badf8d3d5f76",
   "metadata": {},
   "source": [
    "Summary: \n",
    "\n",
    "For our project, we will be working within the self-driving car domain. Current autonomous vehicles on the road rely on sensors, cameras, actuators, various complex algorithms, machine learning, and powerful compute processing to execute software. These processes are combined to create and maintain a digital map of the vehicle’s surroundings from which the vehicle is able to make decisions based on machine learning and real-time information processing.\n",
    "\n",
    "These processes are very involved and have taken years of research to develop and realize. We will therefore be making a simplified version of the autonomous vehicle which will employ features such as lane recognition, street sign detection, and collision avoidance.\n"
   ]
  },
  {
   "cell_type": "markdown",
   "id": "58714e98-e725-4deb-b63d-447f0ba28958",
   "metadata": {},
   "source": [
    "Technologies (Software):\n",
    "    \n",
    "OpenCV (Python), TensorFlow(Python), \n"
   ]
  },
  {
   "cell_type": "markdown",
   "id": "4640bab2-81d8-43d5-9f62-37a2ac7b1c40",
   "metadata": {},
   "source": [
    "Technologies (Hardware):\n",
    "\n",
    "Raspberry Pi 4, Arduino Uno Motor Drive Controller, Camera Module, Quad motor R/C car chassis\n"
   ]
  },
  {
   "cell_type": "markdown",
   "id": "c716b1bb-0ec2-4518-b8d5-75a3638d33b3",
   "metadata": {},
   "source": [
    "Model:\n",
    "\n",
    "We will be using a physical model for the vehicle based on the aforementioned technologies. The car will be mainly controlled locally by the Raspberry Pi computer with OpenCV installed. We will be using OpenCV since it provides a real-time optimized Computer Vision library with a large number of tools for image processing & collection, data collection, etc. In conjunction, with this library, we will also be using TensorFlow for the machine learning aspect. Apart from taking advantage of these preexisting libraries, we will need to come up with various algorithms to communicate with and tune the hardware components. As we will be making an autonomous car, we will need a road to drive on; for this, we will use colored tape to indicate lanes and possibly white paper sheets for the road surface to maintain consistency.\n"
   ]
  },
  {
   "cell_type": "markdown",
   "id": "6db11e8b-dd6c-44c1-8858-015d2a13e132",
   "metadata": {},
   "source": [
    "Data Collection:\n",
    "\n",
    "For the data collection phase, we plan to use a joystick to maneuver the car around the track. As we are doing so, we will take and save pictures/snapshots of the track from the camera module. Each picture will be mapped to the corresponding steering/wheel angle as well as the joystick input at that point. We will also need datasets(images) of various road signs which we plan to obtain from the internet if possible or create our own if not.\n"
   ]
  },
  {
   "cell_type": "markdown",
   "id": "af37ccd7-6862-4938-acb4-5ac91d3d2e32",
   "metadata": {},
   "source": [
    "Training:\n",
    "\n",
    "We have yet to decide on what neural network architecture will be used to create our model. What we have as of now is that we will train our model based on the data collected as follows. We will train the model to be able to determine an appropriate maneuver based on what is has learned from the image and steering angle data set. We will also train the model to recognize various street signs and perform the necessary maneuver.\n"
   ]
  },
  {
   "cell_type": "markdown",
   "id": "b597abb5-2df5-49ca-96ee-249cc7aa1c63",
   "metadata": {},
   "source": [
    "Testing:\n",
    "\n",
    "The model will be tested on a couple different tracks. We may vary the width, length, and design of the track to see how the model is able to perform. We talked about using OpenCV to determine how centered the car is on the track by looking at the left and right lane boundaries and determining the car’s position based on that. We would also put road signs at various part of the track to see how the model reacts. We could also put objects on the road to see how the model reacts to it.\n"
   ]
  }
 ],
 "metadata": {
  "kernelspec": {
   "display_name": "Python 3 (ipykernel)",
   "language": "python",
   "name": "python3"
  },
  "language_info": {
   "codemirror_mode": {
    "name": "ipython",
    "version": 3
   },
   "file_extension": ".py",
   "mimetype": "text/x-python",
   "name": "python",
   "nbconvert_exporter": "python",
   "pygments_lexer": "ipython3",
   "version": "3.9.7"
  }
 },
 "nbformat": 4,
 "nbformat_minor": 5
}
